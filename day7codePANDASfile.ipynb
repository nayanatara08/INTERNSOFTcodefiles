{
 "cells": [
  {
   "cell_type": "code",
   "execution_count": 1,
   "metadata": {},
   "outputs": [],
   "source": [
    "#PANDAS"
   ]
  },
  {
   "cell_type": "code",
   "execution_count": 2,
   "metadata": {
    "colab": {},
    "colab_type": "code",
    "id": "RY-8QZ2e7qZ3",
    "outputId": "c31cfd42-cd1e-48d0-846e-21814acc2a34"
   },
   "outputs": [
    {
     "data": {
      "text/plain": [
       "'1.0.5'"
      ]
     },
     "execution_count": 2,
     "metadata": {},
     "output_type": "execute_result"
    }
   ],
   "source": [
    "#Checking version\n",
    "import pandas\n",
    "pandas.__version__"
   ]
  },
  {
   "cell_type": "code",
   "execution_count": 3,
   "metadata": {
    "colab": {},
    "colab_type": "code",
    "id": "n-WesiTU7qaV"
   },
   "outputs": [],
   "source": [
    "import numpy as np\n",
    "import pandas as pd"
   ]
  },
  {
   "cell_type": "code",
   "execution_count": 4,
   "metadata": {},
   "outputs": [],
   "source": [
    "#PANDAS OBJECTS"
   ]
  },
  {
   "cell_type": "code",
   "execution_count": 5,
   "metadata": {
    "colab": {},
    "colab_type": "code",
    "id": "J-J-f_8O7qal",
    "outputId": "8ea8b1aa-7477-4c81-8dae-39a18b37d4ae"
   },
   "outputs": [
    {
     "data": {
      "text/plain": [
       "0    11\n",
       "1    22\n",
       "2    33\n",
       "3    44\n",
       "dtype: int64"
      ]
     },
     "execution_count": 5,
     "metadata": {},
     "output_type": "execute_result"
    }
   ],
   "source": [
    "#SERIES\n",
    "num = pd.Series([11, 22, 33, 44])\n",
    "num"
   ]
  },
  {
   "cell_type": "code",
   "execution_count": 6,
   "metadata": {
    "colab": {},
    "colab_type": "code",
    "id": "a0_lnmM37qa0"
   },
   "outputs": [
    {
     "data": {
      "text/plain": [
       "array([11, 22, 33, 44], dtype=int64)"
      ]
     },
     "execution_count": 6,
     "metadata": {},
     "output_type": "execute_result"
    }
   ],
   "source": [
    "num.values"
   ]
  },
  {
   "cell_type": "code",
   "execution_count": 7,
   "metadata": {
    "colab": {},
    "colab_type": "code",
    "id": "LvNsURKP7qa6"
   },
   "outputs": [
    {
     "data": {
      "text/plain": [
       "RangeIndex(start=0, stop=4, step=1)"
      ]
     },
     "execution_count": 7,
     "metadata": {},
     "output_type": "execute_result"
    }
   ],
   "source": [
    "num.index"
   ]
  },
  {
   "cell_type": "code",
   "execution_count": 8,
   "metadata": {
    "colab": {},
    "colab_type": "code",
    "id": "RWNBd7Pz7qbD"
   },
   "outputs": [
    {
     "data": {
      "text/plain": [
       "jenni    11\n",
       "piggy    22\n",
       "tharu    33\n",
       "teju     44\n",
       "dtype: int64"
      ]
     },
     "execution_count": 8,
     "metadata": {},
     "output_type": "execute_result"
    }
   ],
   "source": [
    "#assigning the lables to index\n",
    "num = pd.Series([11, 22, 33, 44], \n",
    "    index=['jenni', 'piggy', 'tharu', 'teju'])\n",
    "num"
   ]
  },
  {
   "cell_type": "code",
   "execution_count": 9,
   "metadata": {
    "colab": {},
    "colab_type": "code",
    "id": "peUVpSmV7qbP"
   },
   "outputs": [
    {
     "data": {
      "text/plain": [
       "33"
      ]
     },
     "execution_count": 9,
     "metadata": {},
     "output_type": "execute_result"
    }
   ],
   "source": [
    "num['tharu']"
   ]
  },
  {
   "cell_type": "code",
   "execution_count": 10,
   "metadata": {
    "colab": {},
    "colab_type": "code",
    "id": "7sGg0O8C7qbW"
   },
   "outputs": [
    {
     "data": {
      "text/plain": [
       "44"
      ]
     },
     "execution_count": 10,
     "metadata": {},
     "output_type": "execute_result"
    }
   ],
   "source": [
    "num[3]"
   ]
  },
  {
   "cell_type": "code",
   "execution_count": 11,
   "metadata": {
    "colab": {},
    "colab_type": "code",
    "id": "xhEeGJTC7qbc"
   },
   "outputs": [
    {
     "data": {
      "text/plain": [
       "Students\n",
       "jenni    11\n",
       "piggy    22\n",
       "tharu    33\n",
       "teju     44\n",
       "Name: num, dtype: int64"
      ]
     },
     "execution_count": 11,
     "metadata": {},
     "output_type": "execute_result"
    }
   ],
   "source": [
    "num.name = 'num'\n",
    "num.index.name = 'Students'\n",
    "num"
   ]
  },
  {
   "cell_type": "code",
   "execution_count": 12,
   "metadata": {
    "colab": {},
    "colab_type": "code",
    "id": "BtjNQhqC7qbk"
   },
   "outputs": [
    {
     "data": {
      "text/plain": [
       "Students\n",
       "jenni    2.397895\n",
       "piggy    3.091042\n",
       "tharu    3.496508\n",
       "teju     3.784190\n",
       "Name: num, dtype: float64"
      ]
     },
     "execution_count": 12,
     "metadata": {},
     "output_type": "execute_result"
    }
   ],
   "source": [
    "#Can also apply other operations\n",
    "np.log(num)"
   ]
  },
  {
   "cell_type": "code",
   "execution_count": 13,
   "metadata": {
    "colab": {},
    "colab_type": "code",
    "id": "3LqY7cBW7qbx"
   },
   "outputs": [
    {
     "data": {
      "text/plain": [
       "Students\n",
       "teju    44\n",
       "Name: num, dtype: int64"
      ]
     },
     "execution_count": 13,
     "metadata": {},
     "output_type": "execute_result"
    }
   ],
   "source": [
    "num[num>33]"
   ]
  },
  {
   "cell_type": "code",
   "execution_count": 14,
   "metadata": {
    "colab": {},
    "colab_type": "code",
    "id": "SVRpZwU77qb3"
   },
   "outputs": [
    {
     "name": "stdout",
     "output_type": "stream",
     "text": [
      "{'jenni': 11, 'piggy': 22, 'tharu': 33, 'teju': 44}\n"
     ]
    },
    {
     "data": {
      "text/plain": [
       "jenni    11\n",
       "piggy    22\n",
       "tharu    33\n",
       "teju     44\n",
       "dtype: int64"
      ]
     },
     "execution_count": 14,
     "metadata": {},
     "output_type": "execute_result"
    }
   ],
   "source": [
    "num_dict = {'jenni': 11, 'piggy': 22, 'tharu': 33, 'teju': 44}\n",
    "print(num_dict)\n",
    "pd.Series(num_dict)"
   ]
  },
  {
   "cell_type": "code",
   "execution_count": 15,
   "metadata": {
    "colab": {},
    "colab_type": "code",
    "id": "cxsJ89pR7qcD",
    "outputId": "90d884f8-c4ac-4302-aed6-747572e723cb"
   },
   "outputs": [
    {
     "name": "stdout",
     "output_type": "stream",
     "text": [
      "{'students': ['nayana', 'tharu', 'teju', 'piggy', 'jenni', 'maha'], 'batch': [2015, 2016, 2017, 2018, 2019, 2020], 'id': [111, 222, 333, 444, 555, 666]}\n"
     ]
    },
    {
     "data": {
      "text/html": [
       "<div>\n",
       "<style scoped>\n",
       "    .dataframe tbody tr th:only-of-type {\n",
       "        vertical-align: middle;\n",
       "    }\n",
       "\n",
       "    .dataframe tbody tr th {\n",
       "        vertical-align: top;\n",
       "    }\n",
       "\n",
       "    .dataframe thead th {\n",
       "        text-align: right;\n",
       "    }\n",
       "</style>\n",
       "<table border=\"1\" class=\"dataframe\">\n",
       "  <thead>\n",
       "    <tr style=\"text-align: right;\">\n",
       "      <th></th>\n",
       "      <th>students</th>\n",
       "      <th>batch</th>\n",
       "      <th>id</th>\n",
       "    </tr>\n",
       "  </thead>\n",
       "  <tbody>\n",
       "    <tr>\n",
       "      <th>0</th>\n",
       "      <td>nayana</td>\n",
       "      <td>2015</td>\n",
       "      <td>111</td>\n",
       "    </tr>\n",
       "    <tr>\n",
       "      <th>1</th>\n",
       "      <td>tharu</td>\n",
       "      <td>2016</td>\n",
       "      <td>222</td>\n",
       "    </tr>\n",
       "    <tr>\n",
       "      <th>2</th>\n",
       "      <td>teju</td>\n",
       "      <td>2017</td>\n",
       "      <td>333</td>\n",
       "    </tr>\n",
       "    <tr>\n",
       "      <th>3</th>\n",
       "      <td>piggy</td>\n",
       "      <td>2018</td>\n",
       "      <td>444</td>\n",
       "    </tr>\n",
       "    <tr>\n",
       "      <th>4</th>\n",
       "      <td>jenni</td>\n",
       "      <td>2019</td>\n",
       "      <td>555</td>\n",
       "    </tr>\n",
       "    <tr>\n",
       "      <th>5</th>\n",
       "      <td>maha</td>\n",
       "      <td>2020</td>\n",
       "      <td>666</td>\n",
       "    </tr>\n",
       "  </tbody>\n",
       "</table>\n",
       "</div>"
      ],
      "text/plain": [
       "  students  batch   id\n",
       "0   nayana   2015  111\n",
       "1    tharu   2016  222\n",
       "2     teju   2017  333\n",
       "3    piggy   2018  444\n",
       "4    jenni   2019  555\n",
       "5     maha   2020  666"
      ]
     },
     "execution_count": 15,
     "metadata": {},
     "output_type": "execute_result"
    }
   ],
   "source": [
    "#DATA FRAME\n",
    "CMR = {\"students\": [\"nayana\", \"tharu\", \"teju\", \"piggy\", \"jenni\", \"maha\"],\n",
    "        \"batch\": [2015, 2016, 2017, 2018, 2019, 2020],\n",
    "        \"id\": [111, 222, 333, 444, 555, 666]}\n",
    "print(CMR)\n",
    "CMR = pd.DataFrame(CMR)\n",
    "CMR"
   ]
  },
  {
   "cell_type": "code",
   "execution_count": 16,
   "metadata": {
    "colab": {},
    "colab_type": "code",
    "id": "LFnOqBvw7qcK",
    "outputId": "90d92883-9210-4f7c-c9e4-a309bada2ddf"
   },
   "outputs": [
    {
     "data": {
      "text/html": [
       "<div>\n",
       "<style scoped>\n",
       "    .dataframe tbody tr th:only-of-type {\n",
       "        vertical-align: middle;\n",
       "    }\n",
       "\n",
       "    .dataframe tbody tr th {\n",
       "        vertical-align: top;\n",
       "    }\n",
       "\n",
       "    .dataframe thead th {\n",
       "        text-align: right;\n",
       "    }\n",
       "</style>\n",
       "<table border=\"1\" class=\"dataframe\">\n",
       "  <thead>\n",
       "    <tr style=\"text-align: right;\">\n",
       "      <th></th>\n",
       "      <th>students</th>\n",
       "      <th>id</th>\n",
       "      <th>batch</th>\n",
       "    </tr>\n",
       "  </thead>\n",
       "  <tbody>\n",
       "    <tr>\n",
       "      <th>0</th>\n",
       "      <td>nayana</td>\n",
       "      <td>111</td>\n",
       "      <td>2015</td>\n",
       "    </tr>\n",
       "    <tr>\n",
       "      <th>1</th>\n",
       "      <td>tharu</td>\n",
       "      <td>222</td>\n",
       "      <td>2016</td>\n",
       "    </tr>\n",
       "    <tr>\n",
       "      <th>2</th>\n",
       "      <td>teju</td>\n",
       "      <td>333</td>\n",
       "      <td>2017</td>\n",
       "    </tr>\n",
       "    <tr>\n",
       "      <th>3</th>\n",
       "      <td>piggy</td>\n",
       "      <td>444</td>\n",
       "      <td>2018</td>\n",
       "    </tr>\n",
       "    <tr>\n",
       "      <th>4</th>\n",
       "      <td>jenni</td>\n",
       "      <td>555</td>\n",
       "      <td>2019</td>\n",
       "    </tr>\n",
       "    <tr>\n",
       "      <th>5</th>\n",
       "      <td>maha</td>\n",
       "      <td>666</td>\n",
       "      <td>2020</td>\n",
       "    </tr>\n",
       "  </tbody>\n",
       "</table>\n",
       "</div>"
      ],
      "text/plain": [
       "  students   id  batch\n",
       "0   nayana  111   2015\n",
       "1    tharu  222   2016\n",
       "2     teju  333   2017\n",
       "3    piggy  444   2018\n",
       "4    jenni  555   2019\n",
       "5     maha  666   2020"
      ]
     },
     "execution_count": 16,
     "metadata": {},
     "output_type": "execute_result"
    }
   ],
   "source": [
    "data = pd.DataFrame(CMR, columns=[\"students\", \"id\" ,\"batch\"])\n",
    "data"
   ]
  },
  {
   "cell_type": "code",
   "execution_count": 17,
   "metadata": {
    "colab": {},
    "colab_type": "code",
    "id": "PDCBDCMl7qcY",
    "outputId": "4dce08d0-3e4f-4d50-909d-705186fa64c5"
   },
   "outputs": [
    {
     "data": {
      "text/html": [
       "<div>\n",
       "<style scoped>\n",
       "    .dataframe tbody tr th:only-of-type {\n",
       "        vertical-align: middle;\n",
       "    }\n",
       "\n",
       "    .dataframe tbody tr th {\n",
       "        vertical-align: top;\n",
       "    }\n",
       "\n",
       "    .dataframe thead th {\n",
       "        text-align: right;\n",
       "    }\n",
       "</style>\n",
       "<table border=\"1\" class=\"dataframe\">\n",
       "  <thead>\n",
       "    <tr style=\"text-align: right;\">\n",
       "      <th></th>\n",
       "      <th>students</th>\n",
       "      <th>id</th>\n",
       "      <th>batch</th>\n",
       "      <th>marks</th>\n",
       "    </tr>\n",
       "  </thead>\n",
       "  <tbody>\n",
       "    <tr>\n",
       "      <th>0</th>\n",
       "      <td>nayana</td>\n",
       "      <td>111</td>\n",
       "      <td>2015</td>\n",
       "      <td>18.153153</td>\n",
       "    </tr>\n",
       "    <tr>\n",
       "      <th>1</th>\n",
       "      <td>tharu</td>\n",
       "      <td>222</td>\n",
       "      <td>2016</td>\n",
       "      <td>9.081081</td>\n",
       "    </tr>\n",
       "    <tr>\n",
       "      <th>2</th>\n",
       "      <td>teju</td>\n",
       "      <td>333</td>\n",
       "      <td>2017</td>\n",
       "      <td>6.057057</td>\n",
       "    </tr>\n",
       "    <tr>\n",
       "      <th>3</th>\n",
       "      <td>piggy</td>\n",
       "      <td>444</td>\n",
       "      <td>2018</td>\n",
       "      <td>4.545045</td>\n",
       "    </tr>\n",
       "    <tr>\n",
       "      <th>4</th>\n",
       "      <td>jenni</td>\n",
       "      <td>555</td>\n",
       "      <td>2019</td>\n",
       "      <td>3.637838</td>\n",
       "    </tr>\n",
       "    <tr>\n",
       "      <th>5</th>\n",
       "      <td>maha</td>\n",
       "      <td>666</td>\n",
       "      <td>2020</td>\n",
       "      <td>3.033033</td>\n",
       "    </tr>\n",
       "  </tbody>\n",
       "</table>\n",
       "</div>"
      ],
      "text/plain": [
       "  students   id  batch      marks\n",
       "0   nayana  111   2015  18.153153\n",
       "1    tharu  222   2016   9.081081\n",
       "2     teju  333   2017   6.057057\n",
       "3    piggy  444   2018   4.545045\n",
       "4    jenni  555   2019   3.637838\n",
       "5     maha  666   2020   3.033033"
      ]
     },
     "execution_count": 17,
     "metadata": {},
     "output_type": "execute_result"
    }
   ],
   "source": [
    "#Assigning values to new columns \n",
    "data['marks'] = data.batch / data.id\n",
    "data"
   ]
  },
  {
   "cell_type": "code",
   "execution_count": 18,
   "metadata": {
    "colab": {},
    "colab_type": "code",
    "id": "gnbM7-7-7qcd",
    "outputId": "1b2e1d6b-a4d9-4e0e-9894-ce282fca86c6"
   },
   "outputs": [
    {
     "data": {
      "text/html": [
       "<div>\n",
       "<style scoped>\n",
       "    .dataframe tbody tr th:only-of-type {\n",
       "        vertical-align: middle;\n",
       "    }\n",
       "\n",
       "    .dataframe tbody tr th {\n",
       "        vertical-align: top;\n",
       "    }\n",
       "\n",
       "    .dataframe thead th {\n",
       "        text-align: right;\n",
       "    }\n",
       "</style>\n",
       "<table border=\"1\" class=\"dataframe\">\n",
       "  <thead>\n",
       "    <tr style=\"text-align: right;\">\n",
       "      <th></th>\n",
       "      <th>students</th>\n",
       "      <th>id</th>\n",
       "      <th>batch</th>\n",
       "      <th>marks</th>\n",
       "      <th>count</th>\n",
       "    </tr>\n",
       "  </thead>\n",
       "  <tbody>\n",
       "    <tr>\n",
       "      <th>0</th>\n",
       "      <td>nayana</td>\n",
       "      <td>111</td>\n",
       "      <td>2015</td>\n",
       "      <td>18.153153</td>\n",
       "      <td>0</td>\n",
       "    </tr>\n",
       "    <tr>\n",
       "      <th>1</th>\n",
       "      <td>tharu</td>\n",
       "      <td>222</td>\n",
       "      <td>2016</td>\n",
       "      <td>9.081081</td>\n",
       "      <td>1</td>\n",
       "    </tr>\n",
       "    <tr>\n",
       "      <th>2</th>\n",
       "      <td>teju</td>\n",
       "      <td>333</td>\n",
       "      <td>2017</td>\n",
       "      <td>6.057057</td>\n",
       "      <td>2</td>\n",
       "    </tr>\n",
       "    <tr>\n",
       "      <th>3</th>\n",
       "      <td>piggy</td>\n",
       "      <td>444</td>\n",
       "      <td>2018</td>\n",
       "      <td>4.545045</td>\n",
       "      <td>3</td>\n",
       "    </tr>\n",
       "    <tr>\n",
       "      <th>4</th>\n",
       "      <td>jenni</td>\n",
       "      <td>555</td>\n",
       "      <td>2019</td>\n",
       "      <td>3.637838</td>\n",
       "      <td>4</td>\n",
       "    </tr>\n",
       "    <tr>\n",
       "      <th>5</th>\n",
       "      <td>maha</td>\n",
       "      <td>666</td>\n",
       "      <td>2020</td>\n",
       "      <td>3.033033</td>\n",
       "      <td>5</td>\n",
       "    </tr>\n",
       "  </tbody>\n",
       "</table>\n",
       "</div>"
      ],
      "text/plain": [
       "  students   id  batch      marks  count\n",
       "0   nayana  111   2015  18.153153      0\n",
       "1    tharu  222   2016   9.081081      1\n",
       "2     teju  333   2017   6.057057      2\n",
       "3    piggy  444   2018   4.545045      3\n",
       "4    jenni  555   2019   3.637838      4\n",
       "5     maha  666   2020   3.033033      5"
      ]
     },
     "execution_count": 18,
     "metadata": {},
     "output_type": "execute_result"
    }
   ],
   "source": [
    "data['count'] = pd.Series(range(6), index=[0, 1, 2, 3, 4, 5])\n",
    "data"
   ]
  },
  {
   "cell_type": "code",
   "execution_count": 19,
   "metadata": {
    "colab": {},
    "colab_type": "code",
    "id": "nKJTrLim7qcl",
    "outputId": "4a7c16e9-75aa-46ca-c12a-1883ae877671"
   },
   "outputs": [
    {
     "data": {
      "text/plain": [
       "{'students': {0: 'nayana',\n",
       "  1: 'tharu',\n",
       "  2: 'teju',\n",
       "  3: 'piggy',\n",
       "  4: 'jenni',\n",
       "  5: 'maha'},\n",
       " 'id': {0: 111, 1: 222, 2: 333, 3: 444, 4: 555, 5: 666},\n",
       " 'batch': {0: 2015, 1: 2016, 2: 2017, 3: 2018, 4: 2019, 5: 2020},\n",
       " 'marks': {0: 18.153153153153152,\n",
       "  1: 9.08108108108108,\n",
       "  2: 6.057057057057057,\n",
       "  3: 4.545045045045045,\n",
       "  4: 3.637837837837838,\n",
       "  5: 3.033033033033033},\n",
       " 'count': {0: 0, 1: 1, 2: 2, 3: 3, 4: 4, 5: 5}}"
      ]
     },
     "execution_count": 19,
     "metadata": {},
     "output_type": "execute_result"
    }
   ],
   "source": [
    "data.to_dict()"
   ]
  },
  {
   "cell_type": "code",
   "execution_count": 20,
   "metadata": {
    "colab": {},
    "colab_type": "code",
    "id": "yMpxtWUJ7qcu",
    "outputId": "96da1b6b-d3ef-4e27-9615-040b44241d06",
    "scrolled": true
   },
   "outputs": [
    {
     "data": {
      "text/html": [
       "<div>\n",
       "<style scoped>\n",
       "    .dataframe tbody tr th:only-of-type {\n",
       "        vertical-align: middle;\n",
       "    }\n",
       "\n",
       "    .dataframe tbody tr th {\n",
       "        vertical-align: top;\n",
       "    }\n",
       "\n",
       "    .dataframe thead th {\n",
       "        text-align: right;\n",
       "    }\n",
       "</style>\n",
       "<table border=\"1\" class=\"dataframe\">\n",
       "  <thead>\n",
       "    <tr style=\"text-align: right;\">\n",
       "      <th></th>\n",
       "      <th>students</th>\n",
       "      <th>id</th>\n",
       "      <th>batch</th>\n",
       "      <th>marks</th>\n",
       "      <th>count</th>\n",
       "    </tr>\n",
       "  </thead>\n",
       "  <tbody>\n",
       "    <tr>\n",
       "      <th>0</th>\n",
       "      <td>nayana</td>\n",
       "      <td>111</td>\n",
       "      <td>2015</td>\n",
       "      <td>18.153153</td>\n",
       "      <td>0</td>\n",
       "    </tr>\n",
       "    <tr>\n",
       "      <th>1</th>\n",
       "      <td>tharu</td>\n",
       "      <td>222</td>\n",
       "      <td>2016</td>\n",
       "      <td>9.081081</td>\n",
       "      <td>1</td>\n",
       "    </tr>\n",
       "    <tr>\n",
       "      <th>2</th>\n",
       "      <td>teju</td>\n",
       "      <td>333</td>\n",
       "      <td>2017</td>\n",
       "      <td>6.057057</td>\n",
       "      <td>2</td>\n",
       "    </tr>\n",
       "    <tr>\n",
       "      <th>3</th>\n",
       "      <td>piggy</td>\n",
       "      <td>444</td>\n",
       "      <td>2018</td>\n",
       "      <td>4.545045</td>\n",
       "      <td>3</td>\n",
       "    </tr>\n",
       "    <tr>\n",
       "      <th>4</th>\n",
       "      <td>jenni</td>\n",
       "      <td>555</td>\n",
       "      <td>2019</td>\n",
       "      <td>3.637838</td>\n",
       "      <td>4</td>\n",
       "    </tr>\n",
       "    <tr>\n",
       "      <th>5</th>\n",
       "      <td>maha</td>\n",
       "      <td>666</td>\n",
       "      <td>2020</td>\n",
       "      <td>3.033033</td>\n",
       "      <td>5</td>\n",
       "    </tr>\n",
       "  </tbody>\n",
       "</table>\n",
       "</div>"
      ],
      "text/plain": [
       "  students   id  batch      marks  count\n",
       "0   nayana  111   2015  18.153153      0\n",
       "1    tharu  222   2016   9.081081      1\n",
       "2     teju  333   2017   6.057057      2\n",
       "3    piggy  444   2018   4.545045      3\n",
       "4    jenni  555   2019   3.637838      4\n",
       "5     maha  666   2020   3.033033      5"
      ]
     },
     "execution_count": 20,
     "metadata": {},
     "output_type": "execute_result"
    }
   ],
   "source": [
    "pd.DataFrame(data.to_dict())"
   ]
  },
  {
   "cell_type": "code",
   "execution_count": 21,
   "metadata": {
    "colab": {},
    "colab_type": "code",
    "id": "yfeTf7VA7qc3"
   },
   "outputs": [
    {
     "name": "stdout",
     "output_type": "stream",
     "text": [
      "[{'n': 0, 'm': 0}, {'n': 1, 'm': 5}, {'n': 2, 'm': 10}, {'n': 3, 'm': 15}, {'n': 4, 'm': 20}]\n"
     ]
    },
    {
     "data": {
      "text/html": [
       "<div>\n",
       "<style scoped>\n",
       "    .dataframe tbody tr th:only-of-type {\n",
       "        vertical-align: middle;\n",
       "    }\n",
       "\n",
       "    .dataframe tbody tr th {\n",
       "        vertical-align: top;\n",
       "    }\n",
       "\n",
       "    .dataframe thead th {\n",
       "        text-align: right;\n",
       "    }\n",
       "</style>\n",
       "<table border=\"1\" class=\"dataframe\">\n",
       "  <thead>\n",
       "    <tr style=\"text-align: right;\">\n",
       "      <th></th>\n",
       "      <th>n</th>\n",
       "      <th>m</th>\n",
       "    </tr>\n",
       "  </thead>\n",
       "  <tbody>\n",
       "    <tr>\n",
       "      <th>0</th>\n",
       "      <td>0</td>\n",
       "      <td>0</td>\n",
       "    </tr>\n",
       "    <tr>\n",
       "      <th>1</th>\n",
       "      <td>1</td>\n",
       "      <td>5</td>\n",
       "    </tr>\n",
       "    <tr>\n",
       "      <th>2</th>\n",
       "      <td>2</td>\n",
       "      <td>10</td>\n",
       "    </tr>\n",
       "    <tr>\n",
       "      <th>3</th>\n",
       "      <td>3</td>\n",
       "      <td>15</td>\n",
       "    </tr>\n",
       "    <tr>\n",
       "      <th>4</th>\n",
       "      <td>4</td>\n",
       "      <td>20</td>\n",
       "    </tr>\n",
       "  </tbody>\n",
       "</table>\n",
       "</div>"
      ],
      "text/plain": [
       "   n   m\n",
       "0  0   0\n",
       "1  1   5\n",
       "2  2  10\n",
       "3  3  15\n",
       "4  4  20"
      ]
     },
     "execution_count": 21,
     "metadata": {},
     "output_type": "execute_result"
    }
   ],
   "source": [
    "air = [{'n': i, 'm':5* i}for i in range(5)]\n",
    "print(air)\n",
    "pd.DataFrame(air)"
   ]
  },
  {
   "cell_type": "code",
   "execution_count": 22,
   "metadata": {
    "colab": {},
    "colab_type": "code",
    "id": "0Zxm_Qx-7qdD"
   },
   "outputs": [
    {
     "data": {
      "text/html": [
       "<div>\n",
       "<style scoped>\n",
       "    .dataframe tbody tr th:only-of-type {\n",
       "        vertical-align: middle;\n",
       "    }\n",
       "\n",
       "    .dataframe tbody tr th {\n",
       "        vertical-align: top;\n",
       "    }\n",
       "\n",
       "    .dataframe thead th {\n",
       "        text-align: right;\n",
       "    }\n",
       "</style>\n",
       "<table border=\"1\" class=\"dataframe\">\n",
       "  <thead>\n",
       "    <tr style=\"text-align: right;\">\n",
       "      <th></th>\n",
       "      <th>ll</th>\n",
       "      <th>mm</th>\n",
       "      <th>nn</th>\n",
       "    </tr>\n",
       "  </thead>\n",
       "  <tbody>\n",
       "    <tr>\n",
       "      <th>0</th>\n",
       "      <td>9</td>\n",
       "      <td>4.0</td>\n",
       "      <td>NaN</td>\n",
       "    </tr>\n",
       "    <tr>\n",
       "      <th>1</th>\n",
       "      <td>3</td>\n",
       "      <td>NaN</td>\n",
       "      <td>8.0</td>\n",
       "    </tr>\n",
       "  </tbody>\n",
       "</table>\n",
       "</div>"
      ],
      "text/plain": [
       "   ll   mm   nn\n",
       "0   9  4.0  NaN\n",
       "1   3  NaN  8.0"
      ]
     },
     "execution_count": 22,
     "metadata": {},
     "output_type": "execute_result"
    }
   ],
   "source": [
    "#NAN\n",
    "pd.DataFrame([{'ll': 9, 'mm': 4}, {'ll': 3, 'nn': 8}])"
   ]
  },
  {
   "cell_type": "code",
   "execution_count": 23,
   "metadata": {
    "colab": {},
    "colab_type": "code",
    "id": "HjIi6uXC7qdM"
   },
   "outputs": [
    {
     "data": {
      "text/html": [
       "<div>\n",
       "<style scoped>\n",
       "    .dataframe tbody tr th:only-of-type {\n",
       "        vertical-align: middle;\n",
       "    }\n",
       "\n",
       "    .dataframe tbody tr th {\n",
       "        vertical-align: top;\n",
       "    }\n",
       "\n",
       "    .dataframe thead th {\n",
       "        text-align: right;\n",
       "    }\n",
       "</style>\n",
       "<table border=\"1\" class=\"dataframe\">\n",
       "  <thead>\n",
       "    <tr style=\"text-align: right;\">\n",
       "      <th></th>\n",
       "      <th>apple</th>\n",
       "      <th>mango</th>\n",
       "    </tr>\n",
       "  </thead>\n",
       "  <tbody>\n",
       "    <tr>\n",
       "      <th>a</th>\n",
       "      <td>7</td>\n",
       "      <td>7</td>\n",
       "    </tr>\n",
       "    <tr>\n",
       "      <th>b</th>\n",
       "      <td>7</td>\n",
       "      <td>7</td>\n",
       "    </tr>\n",
       "    <tr>\n",
       "      <th>c</th>\n",
       "      <td>7</td>\n",
       "      <td>7</td>\n",
       "    </tr>\n",
       "  </tbody>\n",
       "</table>\n",
       "</div>"
      ],
      "text/plain": [
       "   apple  mango\n",
       "a      7      7\n",
       "b      7      7\n",
       "c      7      7"
      ]
     },
     "execution_count": 23,
     "metadata": {},
     "output_type": "execute_result"
    }
   ],
   "source": [
    "#2d numpy array\n",
    "pd.DataFrame(np.random.randint(3, 18),\n",
    "             columns=['apple', 'mango'],\n",
    "             index=['a', 'b', 'c'])\n",
    "\n"
   ]
  },
  {
   "cell_type": "code",
   "execution_count": 24,
   "metadata": {
    "colab": {},
    "colab_type": "code",
    "id": "6ajLgCiK7qdW"
   },
   "outputs": [
    {
     "data": {
      "text/plain": [
       "Int64Index([22, 33, 44, 55, 66], dtype='int64')"
      ]
     },
     "execution_count": 24,
     "metadata": {},
     "output_type": "execute_result"
    }
   ],
   "source": [
    "#INDEX\n",
    "mom = pd.Index([22, 33, 44, 55, 66])\n",
    "mom"
   ]
  },
  {
   "cell_type": "code",
   "execution_count": 25,
   "metadata": {
    "colab": {},
    "colab_type": "code",
    "id": "cGqm4TAc7qdc"
   },
   "outputs": [
    {
     "data": {
      "text/plain": [
       "33"
      ]
     },
     "execution_count": 25,
     "metadata": {},
     "output_type": "execute_result"
    }
   ],
   "source": [
    "mom[1]"
   ]
  },
  {
   "cell_type": "code",
   "execution_count": 26,
   "metadata": {},
   "outputs": [
    {
     "data": {
      "text/plain": [
       "Int64Index([44, 55], dtype='int64')"
      ]
     },
     "execution_count": 26,
     "metadata": {},
     "output_type": "execute_result"
    }
   ],
   "source": [
    "mom[2:4:]"
   ]
  },
  {
   "cell_type": "code",
   "execution_count": 27,
   "metadata": {
    "colab": {},
    "colab_type": "code",
    "id": "LbeoBvG_7qdh"
   },
   "outputs": [
    {
     "data": {
      "text/plain": [
       "Int64Index([22, 33, 44, 55, 66], dtype='int64')"
      ]
     },
     "execution_count": 27,
     "metadata": {},
     "output_type": "execute_result"
    }
   ],
   "source": [
    "mom[::]"
   ]
  },
  {
   "cell_type": "code",
   "execution_count": 28,
   "metadata": {
    "colab": {},
    "colab_type": "code",
    "id": "5d3EN5Rj7qdp"
   },
   "outputs": [
    {
     "name": "stdout",
     "output_type": "stream",
     "text": [
      "5 (5,) 1 int64\n"
     ]
    }
   ],
   "source": [
    "print(mom.size, mom.shape, mom.ndim, mom.dtype)"
   ]
  },
  {
   "cell_type": "code",
   "execution_count": 29,
   "metadata": {
    "colab": {},
    "colab_type": "code",
    "id": "i75UW9lX7qd6",
    "outputId": "b1abb54a-363d-47df-f450-cf179d1c712f"
   },
   "outputs": [
    {
     "data": {
      "text/plain": [
       "0     9\n",
       "1     4\n",
       "2     0\n",
       "3     1\n",
       "4    11\n",
       "dtype: int32"
      ]
     },
     "execution_count": 29,
     "metadata": {},
     "output_type": "execute_result"
    }
   ],
   "source": [
    "#Operating on Data in Pandas\n",
    "dad = np.random.RandomState(10)\n",
    "s = pd.Series(dad.randint(0, 12, 5))\n",
    "s"
   ]
  },
  {
   "cell_type": "code",
   "execution_count": 30,
   "metadata": {
    "colab": {},
    "colab_type": "code",
    "id": "fFniZzfh7qd_",
    "outputId": "de61a284-3764-4272-c315-c046e76b2d93"
   },
   "outputs": [
    {
     "data": {
      "text/html": [
       "<div>\n",
       "<style scoped>\n",
       "    .dataframe tbody tr th:only-of-type {\n",
       "        vertical-align: middle;\n",
       "    }\n",
       "\n",
       "    .dataframe tbody tr th {\n",
       "        vertical-align: top;\n",
       "    }\n",
       "\n",
       "    .dataframe thead th {\n",
       "        text-align: right;\n",
       "    }\n",
       "</style>\n",
       "<table border=\"1\" class=\"dataframe\">\n",
       "  <thead>\n",
       "    <tr style=\"text-align: right;\">\n",
       "      <th></th>\n",
       "      <th>A</th>\n",
       "      <th>B</th>\n",
       "      <th>C</th>\n",
       "      <th>D</th>\n",
       "      <th>E</th>\n",
       "    </tr>\n",
       "  </thead>\n",
       "  <tbody>\n",
       "    <tr>\n",
       "      <th>0</th>\n",
       "      <td>9</td>\n",
       "      <td>0</td>\n",
       "      <td>1</td>\n",
       "      <td>10</td>\n",
       "      <td>8</td>\n",
       "    </tr>\n",
       "    <tr>\n",
       "      <th>1</th>\n",
       "      <td>9</td>\n",
       "      <td>0</td>\n",
       "      <td>10</td>\n",
       "      <td>8</td>\n",
       "      <td>6</td>\n",
       "    </tr>\n",
       "    <tr>\n",
       "      <th>2</th>\n",
       "      <td>4</td>\n",
       "      <td>3</td>\n",
       "      <td>0</td>\n",
       "      <td>4</td>\n",
       "      <td>11</td>\n",
       "    </tr>\n",
       "    <tr>\n",
       "      <th>3</th>\n",
       "      <td>6</td>\n",
       "      <td>8</td>\n",
       "      <td>11</td>\n",
       "      <td>10</td>\n",
       "      <td>1</td>\n",
       "    </tr>\n",
       "  </tbody>\n",
       "</table>\n",
       "</div>"
      ],
      "text/plain": [
       "   A  B   C   D   E\n",
       "0  9  0   1  10   8\n",
       "1  9  0  10   8   6\n",
       "2  4  3   0   4  11\n",
       "3  6  8  11  10   1"
      ]
     },
     "execution_count": 30,
     "metadata": {},
     "output_type": "execute_result"
    }
   ],
   "source": [
    "cat = pd.DataFrame(dad.randint(0, 12, (4, 5)),\n",
    "                  columns=['A', 'B', 'C', 'D', 'E'])\n",
    "cat"
   ]
  },
  {
   "cell_type": "code",
   "execution_count": 31,
   "metadata": {
    "colab": {},
    "colab_type": "code",
    "id": "O9gKYw6n7qeJ",
    "outputId": "d671192c-5243-4dea-e529-192e66cb0c28"
   },
   "outputs": [
    {
     "data": {
      "text/plain": [
       "0     8103.083928\n",
       "1       54.598150\n",
       "2        1.000000\n",
       "3        2.718282\n",
       "4    59874.141715\n",
       "dtype: float64"
      ]
     },
     "execution_count": 31,
     "metadata": {},
     "output_type": "execute_result"
    }
   ],
   "source": [
    "np.exp(s)"
   ]
  },
  {
   "cell_type": "code",
   "execution_count": 32,
   "metadata": {
    "colab": {},
    "colab_type": "code",
    "id": "nPqH4N8u7qeP",
    "outputId": "507f2038-bb9d-4aff-a3d7-80adee0e26b5"
   },
   "outputs": [
    {
     "data": {
      "text/html": [
       "<div>\n",
       "<style scoped>\n",
       "    .dataframe tbody tr th:only-of-type {\n",
       "        vertical-align: middle;\n",
       "    }\n",
       "\n",
       "    .dataframe tbody tr th {\n",
       "        vertical-align: top;\n",
       "    }\n",
       "\n",
       "    .dataframe thead th {\n",
       "        text-align: right;\n",
       "    }\n",
       "</style>\n",
       "<table border=\"1\" class=\"dataframe\">\n",
       "  <thead>\n",
       "    <tr style=\"text-align: right;\">\n",
       "      <th></th>\n",
       "      <th>A</th>\n",
       "      <th>B</th>\n",
       "      <th>C</th>\n",
       "      <th>D</th>\n",
       "      <th>E</th>\n",
       "    </tr>\n",
       "  </thead>\n",
       "  <tbody>\n",
       "    <tr>\n",
       "      <th>0</th>\n",
       "      <td>7.071068e-01</td>\n",
       "      <td>0.000000e+00</td>\n",
       "      <td>0.707107</td>\n",
       "      <td>1.000000e+00</td>\n",
       "      <td>-2.449294e-16</td>\n",
       "    </tr>\n",
       "    <tr>\n",
       "      <th>1</th>\n",
       "      <td>7.071068e-01</td>\n",
       "      <td>0.000000e+00</td>\n",
       "      <td>1.000000</td>\n",
       "      <td>-2.449294e-16</td>\n",
       "      <td>-1.000000e+00</td>\n",
       "    </tr>\n",
       "    <tr>\n",
       "      <th>2</th>\n",
       "      <td>1.224647e-16</td>\n",
       "      <td>7.071068e-01</td>\n",
       "      <td>0.000000</td>\n",
       "      <td>1.224647e-16</td>\n",
       "      <td>7.071068e-01</td>\n",
       "    </tr>\n",
       "    <tr>\n",
       "      <th>3</th>\n",
       "      <td>-1.000000e+00</td>\n",
       "      <td>-2.449294e-16</td>\n",
       "      <td>0.707107</td>\n",
       "      <td>1.000000e+00</td>\n",
       "      <td>7.071068e-01</td>\n",
       "    </tr>\n",
       "  </tbody>\n",
       "</table>\n",
       "</div>"
      ],
      "text/plain": [
       "              A             B         C             D             E\n",
       "0  7.071068e-01  0.000000e+00  0.707107  1.000000e+00 -2.449294e-16\n",
       "1  7.071068e-01  0.000000e+00  1.000000 -2.449294e-16 -1.000000e+00\n",
       "2  1.224647e-16  7.071068e-01  0.000000  1.224647e-16  7.071068e-01\n",
       "3 -1.000000e+00 -2.449294e-16  0.707107  1.000000e+00  7.071068e-01"
      ]
     },
     "execution_count": 32,
     "metadata": {},
     "output_type": "execute_result"
    }
   ],
   "source": [
    "np.sin(cat* np.pi / 4)"
   ]
  },
  {
   "cell_type": "code",
   "execution_count": 33,
   "metadata": {
    "colab": {},
    "colab_type": "code",
    "id": "NvYMcXsj7qeX",
    "outputId": "029e3ca1-e511-4e8c-a817-6c2775d61b05"
   },
   "outputs": [
    {
     "name": "stdout",
     "output_type": "stream",
     "text": [
      "delhi       1234\n",
      "mumbai      5678\n",
      "coorg     423967\n",
      "Name: place, dtype: int64\n"
     ]
    },
    {
     "data": {
      "text/plain": [
       "mumbai      38332521\n",
       "coorg       26448193\n",
       "banglore    19651127\n",
       "Name: cities, dtype: int64"
      ]
     },
     "execution_count": 33,
     "metadata": {},
     "output_type": "execute_result"
    }
   ],
   "source": [
    "#Index alignment in Series\n",
    "nf = pd.Series({'delhi': 1234, 'mumbai': 5678,\n",
    "                  'coorg': 423967}, name='place')\n",
    "nff = pd.Series({'mumbai': 38332521, 'coorg': 26448193,\n",
    "                        'banglore': 19651127}, name='cities')\n",
    "print(nf)\n",
    "nff\n"
   ]
  },
  {
   "cell_type": "code",
   "execution_count": 34,
   "metadata": {
    "colab": {},
    "colab_type": "code",
    "id": "TlThbA3C7qed",
    "outputId": "c752710a-3b52-4180-e9e3-438bde343543"
   },
   "outputs": [
    {
     "data": {
      "text/plain": [
       "banglore         NaN\n",
       "coorg       0.016030\n",
       "delhi            NaN\n",
       "mumbai      0.000148\n",
       "dtype: float64"
      ]
     },
     "execution_count": 34,
     "metadata": {},
     "output_type": "execute_result"
    }
   ],
   "source": [
    "nf / nff"
   ]
  },
  {
   "cell_type": "code",
   "execution_count": 35,
   "metadata": {
    "colab": {},
    "colab_type": "code",
    "id": "CrVEyV-D7qes",
    "outputId": "679e65e4-8b9b-4683-e195-5bfe47a51f02"
   },
   "outputs": [
    {
     "name": "stdout",
     "output_type": "stream",
     "text": [
      "0    1\n",
      "1    2\n",
      "2    3\n",
      "dtype: int64\n",
      "0    6\n",
      "2    3\n",
      "3    5\n",
      "dtype: int64\n"
     ]
    },
    {
     "data": {
      "text/plain": [
       "0    7.0\n",
       "1    NaN\n",
       "2    6.0\n",
       "3    NaN\n",
       "dtype: float64"
      ]
     },
     "execution_count": 35,
     "metadata": {},
     "output_type": "execute_result"
    }
   ],
   "source": [
    "p = pd.Series([1, 2, 3], index=[0, 1, 2])\n",
    "t = pd.Series([6, 3, 5], index=[0, 2, 3])\n",
    "print(p)\n",
    "print(t)\n",
    "p + t"
   ]
  },
  {
   "cell_type": "code",
   "execution_count": 36,
   "metadata": {
    "colab": {},
    "colab_type": "code",
    "id": "VQwFiK3X7qfD",
    "outputId": "825a2454-446b-4d22-c153-a4e60f6ff967"
   },
   "outputs": [
    {
     "data": {
      "text/plain": [
       "0     7.0\n",
       "1    11.0\n",
       "2     6.0\n",
       "3    14.0\n",
       "dtype: float64"
      ]
     },
     "execution_count": 36,
     "metadata": {},
     "output_type": "execute_result"
    }
   ],
   "source": [
    "p.add(t, fill_value=9)"
   ]
  },
  {
   "cell_type": "code",
   "execution_count": 37,
   "metadata": {
    "colab": {},
    "colab_type": "code",
    "id": "g55nukZu7qfS",
    "outputId": "a412843b-30f1-4292-b432-9cea65ca4d5b"
   },
   "outputs": [
    {
     "data": {
      "text/html": [
       "<div>\n",
       "<style scoped>\n",
       "    .dataframe tbody tr th:only-of-type {\n",
       "        vertical-align: middle;\n",
       "    }\n",
       "\n",
       "    .dataframe tbody tr th {\n",
       "        vertical-align: top;\n",
       "    }\n",
       "\n",
       "    .dataframe thead th {\n",
       "        text-align: right;\n",
       "    }\n",
       "</style>\n",
       "<table border=\"1\" class=\"dataframe\">\n",
       "  <thead>\n",
       "    <tr style=\"text-align: right;\">\n",
       "      <th></th>\n",
       "      <th>students</th>\n",
       "      <th>id</th>\n",
       "      <th>batch</th>\n",
       "      <th>marks</th>\n",
       "      <th>count</th>\n",
       "    </tr>\n",
       "  </thead>\n",
       "  <tbody>\n",
       "    <tr>\n",
       "      <th>0</th>\n",
       "      <td>nayana</td>\n",
       "      <td>111</td>\n",
       "      <td>2015</td>\n",
       "      <td>18.153153</td>\n",
       "      <td>0</td>\n",
       "    </tr>\n",
       "    <tr>\n",
       "      <th>1</th>\n",
       "      <td>tharu</td>\n",
       "      <td>222</td>\n",
       "      <td>2016</td>\n",
       "      <td>9.081081</td>\n",
       "      <td>1</td>\n",
       "    </tr>\n",
       "    <tr>\n",
       "      <th>2</th>\n",
       "      <td>teju</td>\n",
       "      <td>333</td>\n",
       "      <td>2017</td>\n",
       "      <td>6.057057</td>\n",
       "      <td>2</td>\n",
       "    </tr>\n",
       "    <tr>\n",
       "      <th>3</th>\n",
       "      <td>piggy</td>\n",
       "      <td>444</td>\n",
       "      <td>2018</td>\n",
       "      <td>4.545045</td>\n",
       "      <td>3</td>\n",
       "    </tr>\n",
       "    <tr>\n",
       "      <th>4</th>\n",
       "      <td>jenni</td>\n",
       "      <td>555</td>\n",
       "      <td>2019</td>\n",
       "      <td>3.637838</td>\n",
       "      <td>4</td>\n",
       "    </tr>\n",
       "    <tr>\n",
       "      <th>5</th>\n",
       "      <td>maha</td>\n",
       "      <td>666</td>\n",
       "      <td>2020</td>\n",
       "      <td>3.033033</td>\n",
       "      <td>5</td>\n",
       "    </tr>\n",
       "  </tbody>\n",
       "</table>\n",
       "</div>"
      ],
      "text/plain": [
       "  students   id  batch      marks  count\n",
       "0   nayana  111   2015  18.153153      0\n",
       "1    tharu  222   2016   9.081081      1\n",
       "2     teju  333   2017   6.057057      2\n",
       "3    piggy  444   2018   4.545045      3\n",
       "4    jenni  555   2019   3.637838      4\n",
       "5     maha  666   2020   3.033033      5"
      ]
     },
     "execution_count": 37,
     "metadata": {},
     "output_type": "execute_result"
    }
   ],
   "source": [
    "#Merge operations\n",
    "data"
   ]
  },
  {
   "cell_type": "code",
   "execution_count": 38,
   "metadata": {
    "colab": {},
    "colab_type": "code",
    "id": "wg9Le7ei7qfa",
    "outputId": "77598386-d10a-49bd-a5cf-584247a4d1c2"
   },
   "outputs": [
    {
     "data": {
      "text/html": [
       "<div>\n",
       "<style scoped>\n",
       "    .dataframe tbody tr th:only-of-type {\n",
       "        vertical-align: middle;\n",
       "    }\n",
       "\n",
       "    .dataframe tbody tr th {\n",
       "        vertical-align: top;\n",
       "    }\n",
       "\n",
       "    .dataframe thead th {\n",
       "        text-align: right;\n",
       "    }\n",
       "</style>\n",
       "<table border=\"1\" class=\"dataframe\">\n",
       "  <thead>\n",
       "    <tr style=\"text-align: right;\">\n",
       "      <th></th>\n",
       "      <th>students</th>\n",
       "      <th>ph.no</th>\n",
       "    </tr>\n",
       "  </thead>\n",
       "  <tbody>\n",
       "    <tr>\n",
       "      <th>0</th>\n",
       "      <td>nayana</td>\n",
       "      <td>000000</td>\n",
       "    </tr>\n",
       "    <tr>\n",
       "      <th>1</th>\n",
       "      <td>tharu</td>\n",
       "      <td>1111111</td>\n",
       "    </tr>\n",
       "    <tr>\n",
       "      <th>2</th>\n",
       "      <td>jenni</td>\n",
       "      <td>333333</td>\n",
       "    </tr>\n",
       "  </tbody>\n",
       "</table>\n",
       "</div>"
      ],
      "text/plain": [
       "  students    ph.no\n",
       "0   nayana   000000\n",
       "1    tharu  1111111\n",
       "2    jenni   333333"
      ]
     },
     "execution_count": 38,
     "metadata": {},
     "output_type": "execute_result"
    }
   ],
   "source": [
    "newdata = pd.DataFrame({\"students\": [\"nayana\", \"tharu\", \"jenni\"], \"ph.no\": [\"000000\", \"1111111\", \"333333\"]})\n",
    "newdata"
   ]
  },
  {
   "cell_type": "code",
   "execution_count": 39,
   "metadata": {
    "colab": {},
    "colab_type": "code",
    "id": "P_3qAOiP7qfi",
    "outputId": "a27cd912-6401-44fe-8ceb-308c97ff314b"
   },
   "outputs": [
    {
     "data": {
      "text/html": [
       "<div>\n",
       "<style scoped>\n",
       "    .dataframe tbody tr th:only-of-type {\n",
       "        vertical-align: middle;\n",
       "    }\n",
       "\n",
       "    .dataframe tbody tr th {\n",
       "        vertical-align: top;\n",
       "    }\n",
       "\n",
       "    .dataframe thead th {\n",
       "        text-align: right;\n",
       "    }\n",
       "</style>\n",
       "<table border=\"1\" class=\"dataframe\">\n",
       "  <thead>\n",
       "    <tr style=\"text-align: right;\">\n",
       "      <th></th>\n",
       "      <th>students</th>\n",
       "      <th>id</th>\n",
       "      <th>batch</th>\n",
       "      <th>marks</th>\n",
       "      <th>count</th>\n",
       "      <th>ph.no</th>\n",
       "    </tr>\n",
       "  </thead>\n",
       "  <tbody>\n",
       "    <tr>\n",
       "      <th>0</th>\n",
       "      <td>nayana</td>\n",
       "      <td>111</td>\n",
       "      <td>2015</td>\n",
       "      <td>18.153153</td>\n",
       "      <td>0</td>\n",
       "      <td>000000</td>\n",
       "    </tr>\n",
       "    <tr>\n",
       "      <th>1</th>\n",
       "      <td>tharu</td>\n",
       "      <td>222</td>\n",
       "      <td>2016</td>\n",
       "      <td>9.081081</td>\n",
       "      <td>1</td>\n",
       "      <td>1111111</td>\n",
       "    </tr>\n",
       "    <tr>\n",
       "      <th>2</th>\n",
       "      <td>jenni</td>\n",
       "      <td>555</td>\n",
       "      <td>2019</td>\n",
       "      <td>3.637838</td>\n",
       "      <td>4</td>\n",
       "      <td>333333</td>\n",
       "    </tr>\n",
       "  </tbody>\n",
       "</table>\n",
       "</div>"
      ],
      "text/plain": [
       "  students   id  batch      marks  count    ph.no\n",
       "0   nayana  111   2015  18.153153      0   000000\n",
       "1    tharu  222   2016   9.081081      1  1111111\n",
       "2    jenni  555   2019   3.637838      4   333333"
      ]
     },
     "execution_count": 39,
     "metadata": {},
     "output_type": "execute_result"
    }
   ],
   "source": [
    "data.merge(newdata)  "
   ]
  },
  {
   "cell_type": "code",
   "execution_count": 40,
   "metadata": {
    "colab": {},
    "colab_type": "code",
    "id": "e479FqbF7qfp",
    "outputId": "aa59f00f-010c-4657-c15b-ef129b757824"
   },
   "outputs": [
    {
     "data": {
      "text/html": [
       "<div>\n",
       "<style scoped>\n",
       "    .dataframe tbody tr th:only-of-type {\n",
       "        vertical-align: middle;\n",
       "    }\n",
       "\n",
       "    .dataframe tbody tr th {\n",
       "        vertical-align: top;\n",
       "    }\n",
       "\n",
       "    .dataframe thead th {\n",
       "        text-align: right;\n",
       "    }\n",
       "</style>\n",
       "<table border=\"1\" class=\"dataframe\">\n",
       "  <thead>\n",
       "    <tr style=\"text-align: right;\">\n",
       "      <th></th>\n",
       "      <th>students</th>\n",
       "      <th>id</th>\n",
       "      <th>batch</th>\n",
       "      <th>marks</th>\n",
       "      <th>count</th>\n",
       "      <th>ph.no</th>\n",
       "    </tr>\n",
       "  </thead>\n",
       "  <tbody>\n",
       "    <tr>\n",
       "      <th>0</th>\n",
       "      <td>tharu</td>\n",
       "      <td>222</td>\n",
       "      <td>2016</td>\n",
       "      <td>9.081081</td>\n",
       "      <td>1</td>\n",
       "      <td>1111111</td>\n",
       "    </tr>\n",
       "    <tr>\n",
       "      <th>1</th>\n",
       "      <td>jenni</td>\n",
       "      <td>555</td>\n",
       "      <td>2019</td>\n",
       "      <td>3.637838</td>\n",
       "      <td>4</td>\n",
       "      <td>3333333</td>\n",
       "    </tr>\n",
       "  </tbody>\n",
       "</table>\n",
       "</div>"
      ],
      "text/plain": [
       "  students   id  batch     marks  count    ph.no\n",
       "0    tharu  222   2016  9.081081      1  1111111\n",
       "1    jenni  555   2019  3.637838      4  3333333"
      ]
     },
     "execution_count": 40,
     "metadata": {},
     "output_type": "execute_result"
    }
   ],
   "source": [
    "nd1 = pd.DataFrame({\"students\": [\"tharu\", \"jenni\"], \"ph.no\": [\"1111111\", \"3333333\"]})\n",
    "nd1\n",
    "data.merge(nd1, right_on='students', left_on='students')"
   ]
  },
  {
   "cell_type": "code",
   "execution_count": 41,
   "metadata": {
    "colab": {},
    "colab_type": "code",
    "id": "OdLg9kZF7qfw"
   },
   "outputs": [
    {
     "data": {
      "text/html": [
       "<div>\n",
       "<style scoped>\n",
       "    .dataframe tbody tr th:only-of-type {\n",
       "        vertical-align: middle;\n",
       "    }\n",
       "\n",
       "    .dataframe tbody tr th {\n",
       "        vertical-align: top;\n",
       "    }\n",
       "\n",
       "    .dataframe thead th {\n",
       "        text-align: right;\n",
       "    }\n",
       "</style>\n",
       "<table border=\"1\" class=\"dataframe\">\n",
       "  <thead>\n",
       "    <tr style=\"text-align: right;\">\n",
       "      <th></th>\n",
       "      <th>students</th>\n",
       "      <th>id</th>\n",
       "      <th>batch</th>\n",
       "      <th>marks</th>\n",
       "      <th>count</th>\n",
       "      <th>ph.no</th>\n",
       "    </tr>\n",
       "  </thead>\n",
       "  <tbody>\n",
       "    <tr>\n",
       "      <th>0</th>\n",
       "      <td>nayana</td>\n",
       "      <td>111</td>\n",
       "      <td>2015</td>\n",
       "      <td>18.153153</td>\n",
       "      <td>0</td>\n",
       "      <td>NaN</td>\n",
       "    </tr>\n",
       "    <tr>\n",
       "      <th>1</th>\n",
       "      <td>tharu</td>\n",
       "      <td>222</td>\n",
       "      <td>2016</td>\n",
       "      <td>9.081081</td>\n",
       "      <td>1</td>\n",
       "      <td>6666666</td>\n",
       "    </tr>\n",
       "    <tr>\n",
       "      <th>2</th>\n",
       "      <td>teju</td>\n",
       "      <td>333</td>\n",
       "      <td>2017</td>\n",
       "      <td>6.057057</td>\n",
       "      <td>2</td>\n",
       "      <td>NaN</td>\n",
       "    </tr>\n",
       "    <tr>\n",
       "      <th>3</th>\n",
       "      <td>piggy</td>\n",
       "      <td>444</td>\n",
       "      <td>2018</td>\n",
       "      <td>4.545045</td>\n",
       "      <td>3</td>\n",
       "      <td>444444</td>\n",
       "    </tr>\n",
       "    <tr>\n",
       "      <th>4</th>\n",
       "      <td>jenni</td>\n",
       "      <td>555</td>\n",
       "      <td>2019</td>\n",
       "      <td>3.637838</td>\n",
       "      <td>4</td>\n",
       "      <td>NaN</td>\n",
       "    </tr>\n",
       "    <tr>\n",
       "      <th>5</th>\n",
       "      <td>maha</td>\n",
       "      <td>666</td>\n",
       "      <td>2020</td>\n",
       "      <td>3.033033</td>\n",
       "      <td>5</td>\n",
       "      <td>333333</td>\n",
       "    </tr>\n",
       "  </tbody>\n",
       "</table>\n",
       "</div>"
      ],
      "text/plain": [
       "  students   id  batch      marks  count    ph.no\n",
       "0   nayana  111   2015  18.153153      0      NaN\n",
       "1    tharu  222   2016   9.081081      1  6666666\n",
       "2     teju  333   2017   6.057057      2      NaN\n",
       "3    piggy  444   2018   4.545045      3   444444\n",
       "4    jenni  555   2019   3.637838      4      NaN\n",
       "5     maha  666   2020   3.033033      5   333333"
      ]
     },
     "execution_count": 41,
     "metadata": {},
     "output_type": "execute_result"
    }
   ],
   "source": [
    "nd2 = pd.DataFrame({\"students\": [\"piggy\", \"maha\", \"tharu\"], \"ph.no\": [\"444444\", \"333333\", \"6666666\"]})\n",
    "data.merge(nd2, how='outer')"
   ]
  },
  {
   "cell_type": "code",
   "execution_count": 42,
   "metadata": {
    "colab": {},
    "colab_type": "code",
    "id": "c1xbdQ8J7qf9",
    "outputId": "f63e2f56-00d5-48c6-d275-7420e496aea0"
   },
   "outputs": [
    {
     "name": "stdout",
     "output_type": "stream",
     "text": [
      "  students   id  batch      marks  count\n",
      "0   nayana  111   2015  18.153153      0\n",
      "1    tharu  222   2016   9.081081      1\n",
      "2     teju  333   2017   6.057057      2\n",
      "3    piggy  444   2018   4.545045      3\n",
      "4    jenni  555   2019   3.637838      4\n",
      "5     maha  666   2020   3.033033      5\n"
     ]
    },
    {
     "data": {
      "text/html": [
       "<div>\n",
       "<style scoped>\n",
       "    .dataframe tbody tr th:only-of-type {\n",
       "        vertical-align: middle;\n",
       "    }\n",
       "\n",
       "    .dataframe tbody tr th {\n",
       "        vertical-align: top;\n",
       "    }\n",
       "\n",
       "    .dataframe thead th {\n",
       "        text-align: right;\n",
       "    }\n",
       "</style>\n",
       "<table border=\"1\" class=\"dataframe\">\n",
       "  <thead>\n",
       "    <tr style=\"text-align: right;\">\n",
       "      <th></th>\n",
       "      <th>students</th>\n",
       "      <th>id</th>\n",
       "      <th>batch</th>\n",
       "      <th>marks</th>\n",
       "      <th>count</th>\n",
       "      <th>ph.no</th>\n",
       "    </tr>\n",
       "  </thead>\n",
       "  <tbody>\n",
       "    <tr>\n",
       "      <th>0</th>\n",
       "      <td>nayana</td>\n",
       "      <td>111</td>\n",
       "      <td>2015</td>\n",
       "      <td>18.153153</td>\n",
       "      <td>0</td>\n",
       "      <td>999999</td>\n",
       "    </tr>\n",
       "    <tr>\n",
       "      <th>1</th>\n",
       "      <td>tharu</td>\n",
       "      <td>222</td>\n",
       "      <td>2016</td>\n",
       "      <td>9.081081</td>\n",
       "      <td>1</td>\n",
       "      <td>555555</td>\n",
       "    </tr>\n",
       "    <tr>\n",
       "      <th>2</th>\n",
       "      <td>teju</td>\n",
       "      <td>333</td>\n",
       "      <td>2017</td>\n",
       "      <td>6.057057</td>\n",
       "      <td>2</td>\n",
       "      <td>NaN</td>\n",
       "    </tr>\n",
       "    <tr>\n",
       "      <th>3</th>\n",
       "      <td>piggy</td>\n",
       "      <td>444</td>\n",
       "      <td>2018</td>\n",
       "      <td>4.545045</td>\n",
       "      <td>3</td>\n",
       "      <td>NaN</td>\n",
       "    </tr>\n",
       "    <tr>\n",
       "      <th>4</th>\n",
       "      <td>jenni</td>\n",
       "      <td>555</td>\n",
       "      <td>2019</td>\n",
       "      <td>3.637838</td>\n",
       "      <td>4</td>\n",
       "      <td>6666666</td>\n",
       "    </tr>\n",
       "    <tr>\n",
       "      <th>5</th>\n",
       "      <td>maha</td>\n",
       "      <td>666</td>\n",
       "      <td>2020</td>\n",
       "      <td>3.033033</td>\n",
       "      <td>5</td>\n",
       "      <td>NaN</td>\n",
       "    </tr>\n",
       "  </tbody>\n",
       "</table>\n",
       "</div>"
      ],
      "text/plain": [
       "  students   id  batch      marks  count    ph.no\n",
       "0   nayana  111   2015  18.153153      0   999999\n",
       "1    tharu  222   2016   9.081081      1   555555\n",
       "2     teju  333   2017   6.057057      2      NaN\n",
       "3    piggy  444   2018   4.545045      3      NaN\n",
       "4    jenni  555   2019   3.637838      4  6666666\n",
       "5     maha  666   2020   3.033033      5      NaN"
      ]
     },
     "execution_count": 42,
     "metadata": {},
     "output_type": "execute_result"
    }
   ],
   "source": [
    "nd3 = pd.DataFrame({\"students\": [\"nayana\", \"tharu\", \"jenni\"], \"ph.no\": [\"999999\", \"555555\", \"6666666\"]})\n",
    "print(data)\n",
    "data.merge(nd3, how='outer')"
   ]
  },
  {
   "cell_type": "code",
   "execution_count": 43,
   "metadata": {
    "colab": {},
    "colab_type": "code",
    "id": "8FdX28bQ7qgH"
   },
   "outputs": [],
   "source": [
    "#Combining data with overlap\n",
    "monkey = pd.Series(['cat', 2.5, 8.6, 'lion', 4.5, np.nan, np.nan, np.nan],\n",
    "                     index=['1', '2', '3', '4', '5', '6', '7', '8'])\n",
    "donkey = pd.Series(np.arange(len(monkey), dtype=np.float64),\n",
    "                 index=['1', '2', '3', '4', '5', '6', '7', '8'])"
   ]
  },
  {
   "cell_type": "code",
   "execution_count": 44,
   "metadata": {
    "colab": {},
    "colab_type": "code",
    "id": "ZuWe4LM37qgM",
    "outputId": "1b6248a4-9d14-4896-9e35-e8b087e90d73"
   },
   "outputs": [
    {
     "data": {
      "text/plain": [
       "1     cat\n",
       "2     2.5\n",
       "3     8.6\n",
       "4    lion\n",
       "5     4.5\n",
       "6     NaN\n",
       "7     NaN\n",
       "8     NaN\n",
       "dtype: object"
      ]
     },
     "execution_count": 44,
     "metadata": {},
     "output_type": "execute_result"
    }
   ],
   "source": [
    "monkey"
   ]
  },
  {
   "cell_type": "code",
   "execution_count": 45,
   "metadata": {
    "colab": {},
    "colab_type": "code",
    "id": "9ur2bvdJ7qgT",
    "outputId": "f0d86cbb-1bd6-4039-a791-8041637e7b38"
   },
   "outputs": [
    {
     "data": {
      "text/plain": [
       "1    0.0\n",
       "2    1.0\n",
       "3    2.0\n",
       "4    3.0\n",
       "5    4.0\n",
       "6    5.0\n",
       "7    6.0\n",
       "8    7.0\n",
       "dtype: float64"
      ]
     },
     "execution_count": 45,
     "metadata": {},
     "output_type": "execute_result"
    }
   ],
   "source": [
    "donkey"
   ]
  },
  {
   "cell_type": "code",
   "execution_count": 46,
   "metadata": {
    "colab": {},
    "colab_type": "code",
    "id": "8HNJDK3j7qgh",
    "outputId": "d028ac61-d403-4931-b5c5-41d28cee1621"
   },
   "outputs": [
    {
     "data": {
      "text/plain": [
       "1     cat\n",
       "2     2.5\n",
       "3     8.6\n",
       "4    lion\n",
       "5     4.5\n",
       "6       5\n",
       "7       6\n",
       "8       7\n",
       "dtype: object"
      ]
     },
     "execution_count": 46,
     "metadata": {},
     "output_type": "execute_result"
    }
   ],
   "source": [
    "pd.Series(np.where(pd.isnull(monkey), donkey, monkey), index=monkey.index)"
   ]
  },
  {
   "cell_type": "code",
   "execution_count": 47,
   "metadata": {
    "colab": {},
    "colab_type": "code",
    "id": "LE8eAzvI7qgl",
    "outputId": "06b331e6-fd61-458a-bdea-4ba379fec719"
   },
   "outputs": [
    {
     "data": {
      "text/plain": [
       "1     cat\n",
       "2     2.5\n",
       "3     8.6\n",
       "4    lion\n",
       "5     4.5\n",
       "6       5\n",
       "7       6\n",
       "8       7\n",
       "dtype: object"
      ]
     },
     "execution_count": 47,
     "metadata": {},
     "output_type": "execute_result"
    }
   ],
   "source": [
    "#shortcut\n",
    "monkey.combine_first(donkey)"
   ]
  }
 ],
 "metadata": {
  "colab": {
   "name": "Pandas code file.ipynb",
   "provenance": []
  },
  "kernelspec": {
   "display_name": "Python 3",
   "language": "python",
   "name": "python3"
  },
  "language_info": {
   "codemirror_mode": {
    "name": "ipython",
    "version": 3
   },
   "file_extension": ".py",
   "mimetype": "text/x-python",
   "name": "python",
   "nbconvert_exporter": "python",
   "pygments_lexer": "ipython3",
   "version": "3.8.3"
  }
 },
 "nbformat": 4,
 "nbformat_minor": 1
}
